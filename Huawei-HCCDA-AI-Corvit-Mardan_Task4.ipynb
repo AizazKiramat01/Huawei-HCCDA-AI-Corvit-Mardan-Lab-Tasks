{
 "cells": [
  {
   "cell_type": "code",
   "execution_count": 1,
   "id": "52d1db07-54cb-42ee-b538-ea1faf24edd1",
   "metadata": {},
   "outputs": [],
   "source": [
    "# 1. Create a list of favorite colors\n",
    "favorite_colors = [\"Blue\", \"Black\", \"Green\", \"White\"]"
   ]
  },
  {
   "cell_type": "code",
   "execution_count": 13,
   "id": "186c53f4-1de3-45ee-9c05-1ce1b4737db5",
   "metadata": {},
   "outputs": [
    {
     "name": "stdout",
     "output_type": "stream",
     "text": [
      "First two favorite colors: ['Blue', 'Black']\n"
     ]
    }
   ],
   "source": [
    "# 2. Access and print the first two colors using slicing\n",
    "print(\"First two favorite colors:\", favorite_colors[0:2])"
   ]
  },
  {
   "cell_type": "code",
   "execution_count": 15,
   "id": "29286aea-6cfb-4500-948b-eed0fc7c726e",
   "metadata": {},
   "outputs": [
    {
     "name": "stdout",
     "output_type": "stream",
     "text": [
      "Updated favorite_colors list: ['Blue', 'Black', 'Red', 'White']\n"
     ]
    }
   ],
   "source": [
    "# 3. Replace the third color with a new color\n",
    "favorite_colors[2] = \"Red\"\n",
    "print(\"Updated favorite_colors list:\", favorite_colors)"
   ]
  },
  {
   "cell_type": "code",
   "execution_count": 17,
   "id": "57c14329-c776-4b7f-a01c-8c1e70778936",
   "metadata": {},
   "outputs": [],
   "source": [
    "# 4. Create a tuple of favorite numbers\n",
    "favorite_numbers = (7, 14, 21, 28, 35)"
   ]
  },
  {
   "cell_type": "code",
   "execution_count": 19,
   "id": "d2fb9f14-fd2b-4447-9a2b-f9b0aed2a6e3",
   "metadata": {},
   "outputs": [
    {
     "name": "stdout",
     "output_type": "stream",
     "text": [
      "Last two favorite numbers: (28, 35)\n"
     ]
    }
   ],
   "source": [
    "# 5. Access and print the last two numbers using slicing\n",
    "print(\"Last two favorite numbers:\", favorite_numbers[-2:])"
   ]
  },
  {
   "cell_type": "code",
   "execution_count": 23,
   "id": "22f18600-6ecd-40fe-bb03-a23e704fa792",
   "metadata": {},
   "outputs": [
    {
     "ename": "IndentationError",
     "evalue": "unexpected indent (3402906646.py, line 2)",
     "output_type": "error",
     "traceback": [
      "\u001b[1;36m  Cell \u001b[1;32mIn[23], line 2\u001b[1;36m\u001b[0m\n\u001b[1;33m    favorite_numbers[0] = 100  # This line will raise a TypeError because tuples are immutable\u001b[0m\n\u001b[1;37m    ^\u001b[0m\n\u001b[1;31mIndentationError\u001b[0m\u001b[1;31m:\u001b[0m unexpected indent\n"
     ]
    }
   ],
   "source": [
    "# 6. Try to change the first number in the tuple (This will fail)\n",
    " favorite_numbers[0] = 100  # This line will raise a TypeError because tuples are immutable"
   ]
  },
  {
   "cell_type": "code",
   "execution_count": 25,
   "id": "0f00143d-8ece-4206-92fe-496905c68cb8",
   "metadata": {},
   "outputs": [
    {
     "name": "stdout",
     "output_type": "stream",
     "text": [
      "Combined list of colors and numbers: ['Blue', 'Black', 'Red', 'White', 7, 14, 21, 28, 35]\n"
     ]
    }
   ],
   "source": [
    "# 7. Concatenate favorite_colors and favorite_numbers into a new list\n",
    "combined_list = favorite_colors + list(favorite_numbers)\n",
    "print(\"Combined list of colors and numbers:\", combined_list)"
   ]
  }
 ],
 "metadata": {
  "kernelspec": {
   "display_name": "Python [conda env:base] *",
   "language": "python",
   "name": "conda-base-py"
  },
  "language_info": {
   "codemirror_mode": {
    "name": "ipython",
    "version": 3
   },
   "file_extension": ".py",
   "mimetype": "text/x-python",
   "name": "python",
   "nbconvert_exporter": "python",
   "pygments_lexer": "ipython3",
   "version": "3.12.7"
  }
 },
 "nbformat": 4,
 "nbformat_minor": 5
}
