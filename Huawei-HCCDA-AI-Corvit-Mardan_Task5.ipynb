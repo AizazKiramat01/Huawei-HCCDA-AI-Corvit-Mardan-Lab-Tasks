{
 "cells": [
  {
   "cell_type": "code",
   "execution_count": 1,
   "id": "81ae1e4b-76b1-4c31-ae4d-c46b2c857c6f",
   "metadata": {},
   "outputs": [],
   "source": [
    "# 1. Create a dictionary for user profile\n",
    "user_profile = {\n",
    "    \"username\": \"Aizaz_Kiramat\",\n",
    "    \"is_admin\": False,\n",
    "    \"last_login\": \"2025-06-12\",\n",
    "    \"preferred_genres\": [\"tech\", \"science\"]\n",
    "}"
   ]
  },
  {
   "cell_type": "code",
   "execution_count": 3,
   "id": "c0b94b6b-d339-4b2c-a505-2ec169dd98a8",
   "metadata": {},
   "outputs": [
    {
     "name": "stdout",
     "output_type": "stream",
     "text": [
      "Username: Aizaz_Kiramat\n"
     ]
    }
   ],
   "source": [
    "# 2. Print the value associated with the \"username\" key\n",
    "print(\"Username:\", user_profile[\"username\"])"
   ]
  },
  {
   "cell_type": "code",
   "execution_count": 5,
   "id": "24f410fb-9224-44c1-ab0d-2f0a98cfe1dc",
   "metadata": {},
   "outputs": [
    {
     "name": "stdout",
     "output_type": "stream",
     "text": [
      "Updated is_admin status: True\n"
     ]
    }
   ],
   "source": [
    "# 3. Change the \"is_admin\" status to its opposite\n",
    "user_profile[\"is_admin\"] = not user_profile[\"is_admin\"]\n",
    "print(\"Updated is_admin status:\", user_profile[\"is_admin\"])"
   ]
  },
  {
   "cell_type": "code",
   "execution_count": 7,
   "id": "c03caf94-119e-467d-89c7-39f351245334",
   "metadata": {},
   "outputs": [],
   "source": [
    "# 4. Add a new key-value pair for \"email\"\n",
    "user_profile[\"email\"] = \"aizazkiramat@gmail.com\""
   ]
  },
  {
   "cell_type": "code",
   "execution_count": 9,
   "id": "46ec1cc9-3ca0-4f3a-9e67-9872df9928d3",
   "metadata": {},
   "outputs": [],
   "source": [
    "# 5. Add a new genre to the \"preferred_genres\" list\n",
    "user_profile[\"preferred_genres\"].append(\"innovation\")"
   ]
  },
  {
   "cell_type": "code",
   "execution_count": 13,
   "id": "1f581b69-75c9-40af-9eda-e292c63c3013",
   "metadata": {},
   "outputs": [
    {
     "name": "stdout",
     "output_type": "stream",
     "text": [
      "Final user_profile dictionary:\n",
      "username: Aizaz_Kiramat\n",
      "is_admin: True\n",
      "last_login: 2025-06-12\n",
      "preferred_genres: ['tech', 'science', 'innovation']\n",
      "email: aizazkiramat@gmail.com\n"
     ]
    }
   ],
   "source": [
    "# 6. Print the entire user_profile dictionary line by line\n",
    "print(\"Final user_profile dictionary:\")\n",
    "for key, value in user_profile.items():\n",
    "    print(f\"{key}: {value}\")"
   ]
  }
 ],
 "metadata": {
  "kernelspec": {
   "display_name": "Python [conda env:base] *",
   "language": "python",
   "name": "conda-base-py"
  },
  "language_info": {
   "codemirror_mode": {
    "name": "ipython",
    "version": 3
   },
   "file_extension": ".py",
   "mimetype": "text/x-python",
   "name": "python",
   "nbconvert_exporter": "python",
   "pygments_lexer": "ipython3",
   "version": "3.12.7"
  }
 },
 "nbformat": 4,
 "nbformat_minor": 5
}
