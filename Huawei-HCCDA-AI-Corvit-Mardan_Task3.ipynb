{
 "cells": [
  {
   "cell_type": "code",
   "execution_count": 1,
   "id": "a0757bf0-cd81-44a8-a396-2997da024a20",
   "metadata": {},
   "outputs": [
    {
     "name": "stdout",
     "output_type": "stream",
     "text": [
      "Active IDs (unique): {202, 101, 303}\n"
     ]
    }
   ],
   "source": [
    "# 1. Create a set with duplicate and unique IDs\n",
    "active_ids = {101, 202, 303, 101}\n",
    "print(\"Active IDs (unique):\", active_ids)"
   ]
  },
  {
   "cell_type": "code",
   "execution_count": 3,
   "id": "736d4a75-fd10-4e02-adad-ad645db2c629",
   "metadata": {},
   "outputs": [
    {
     "name": "stdout",
     "output_type": "stream",
     "text": [
      "After adding 404: {202, 404, 101, 303}\n"
     ]
    }
   ],
   "source": [
    "# 2. Add a new ID 404\n",
    "active_ids.add(404)\n",
    "print(\"After adding 404:\", active_ids)"
   ]
  },
  {
   "cell_type": "code",
   "execution_count": 5,
   "id": "c2e1f17f-5152-40ea-96f5-33aad54e7728",
   "metadata": {},
   "outputs": [
    {
     "name": "stdout",
     "output_type": "stream",
     "text": [
      "After discarding 202: {404, 101, 303}\n"
     ]
    }
   ],
   "source": [
    "# 3. Remove ID 202 safely (no error if not present)\n",
    "active_ids.discard(202)\n",
    "print(\"After discarding 202:\", active_ids)"
   ]
  },
  {
   "cell_type": "code",
   "execution_count": 7,
   "id": "40160bbe-b554-4e80-badb-885df778232f",
   "metadata": {},
   "outputs": [],
   "source": [
    "# 4. Create another set with new IDs\n",
    "newly_added_ids = {303, 505}\n"
   ]
  },
  {
   "cell_type": "code",
   "execution_count": 9,
   "id": "bc4b1de5-56d1-407d-b6a9-cb3fcfd787b2",
   "metadata": {},
   "outputs": [
    {
     "name": "stdout",
     "output_type": "stream",
     "text": [
      "Union of active and newly added IDs: {404, 101, 505, 303}\n"
     ]
    }
   ],
   "source": [
    "# 5. Find and print the union of both sets\n",
    "all_ids = active_ids.union(newly_added_ids)\n",
    "print(\"Union of active and newly added IDs:\", all_ids)"
   ]
  },
  {
   "cell_type": "code",
   "execution_count": 11,
   "id": "d44b3673-9aeb-4a22-bc77-db2b55236b55",
   "metadata": {},
   "outputs": [
    {
     "name": "stdout",
     "output_type": "stream",
     "text": [
      "Server Info: ('server_A', '192.168.1.1', True)\n"
     ]
    }
   ],
   "source": [
    "# 6. Create a tuple with server info\n",
    "server_info = (\"server_A\", \"192.168.1.1\", True)\n",
    "print(\"Server Info:\", server_info)"
   ]
  },
  {
   "cell_type": "code",
   "execution_count": 15,
   "id": "8f8e556c-ffe5-4c07-a08c-b67deaa7ac13",
   "metadata": {},
   "outputs": [
    {
     "name": "stdout",
     "output_type": "stream",
     "text": [
      "IP Address: 192.168.1.1\n"
     ]
    }
   ],
   "source": [
    "# Access and print the IP address\n",
    "print(\"IP Address:\", server_info[1])"
   ]
  }
 ],
 "metadata": {
  "kernelspec": {
   "display_name": "Python [conda env:base] *",
   "language": "python",
   "name": "conda-base-py"
  },
  "language_info": {
   "codemirror_mode": {
    "name": "ipython",
    "version": 3
   },
   "file_extension": ".py",
   "mimetype": "text/x-python",
   "name": "python",
   "nbconvert_exporter": "python",
   "pygments_lexer": "ipython3",
   "version": "3.12.7"
  }
 },
 "nbformat": 4,
 "nbformat_minor": 5
}
