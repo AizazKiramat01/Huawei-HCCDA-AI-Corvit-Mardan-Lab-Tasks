{
 "cells": [
  {
   "cell_type": "code",
   "execution_count": 1,
   "id": "d710ac9c-2c2a-4284-9e1b-937c244afe06",
   "metadata": {},
   "outputs": [],
   "source": [
    "# 1. Create a product catalog dictionary\n",
    "product_catalog = {\n",
    "    \"Milk\": 3.49,\n",
    "    \"Bread\": 2.99,\n",
    "    \"Eggs\": 4.25\n",
    "}"
   ]
  },
  {
   "cell_type": "code",
   "execution_count": 3,
   "id": "c92cdaf1-b666-4711-b171-173170eddd3d",
   "metadata": {},
   "outputs": [],
   "source": [
    "# 2. Add a new product \"Cheese\" with price 7.50\n",
    "product_catalog[\"Cheese\"] = 7.50"
   ]
  },
  {
   "cell_type": "code",
   "execution_count": 17,
   "id": "49d045e8-3bad-4650-8c72-863eb59c2c93",
   "metadata": {},
   "outputs": [
    {
     "name": "stdout",
     "output_type": "stream",
     "text": [
      "Updated Product Catalog: {'Milk': 3.29, 'Bread': 2.99, 'Eggs': 4.25, 'Cheese': 7.5}\n"
     ]
    }
   ],
   "source": [
    "# 3. Update the price of \"Milk\" to 3.29 and print the updated catalog\n",
    "product_catalog[\"Milk\"] = 3.29\n",
    "print(\"Updated Product Catalog:\",product_catalog)"
   ]
  },
  {
   "cell_type": "code",
   "execution_count": 19,
   "id": "7472e584-30bb-4402-a39d-dc9633dcfb9e",
   "metadata": {},
   "outputs": [
    {
     "name": "stdout",
     "output_type": "stream",
     "text": [
      "Price of Bread: 2.99\n"
     ]
    }
   ],
   "source": [
    "# 4. Retrieve and print the price of \"Bread\"\n",
    "bread_price = product_catalog[\"Bread\"]\n",
    "print(\"Price of Bread:\", bread_price)"
   ]
  },
  {
   "cell_type": "code",
   "execution_count": 21,
   "id": "648b4297-d31f-442c-93c7-123ac6c5b890",
   "metadata": {},
   "outputs": [
    {
     "name": "stdout",
     "output_type": "stream",
     "text": [
      "Price of Sugar (default if missing): 0.0\n"
     ]
    }
   ],
   "source": [
    "# 5. Get the price of \"Sugar\" with a default of 0.00 if not found\n",
    "sugar_price = product_catalog.get(\"Sugar\", 0.00)\n",
    "print(\"Price of Sugar (default if missing):\", sugar_price)"
   ]
  },
  {
   "cell_type": "code",
   "execution_count": 25,
   "id": "f06b3b7e-5e3d-40b8-bdae-1b558546f750",
   "metadata": {},
   "outputs": [
    {
     "name": "stdout",
     "output_type": "stream",
     "text": [
      "Product Names: ['Milk', 'Bread', 'Eggs', 'Cheese']\n"
     ]
    }
   ],
   "source": [
    "# 6. Print all product names (keys)\n",
    "product_names = product_catalog.keys()\n",
    "print(\"Product Names:\", list(product_names))"
   ]
  }
 ],
 "metadata": {
  "kernelspec": {
   "display_name": "Python [conda env:base] *",
   "language": "python",
   "name": "conda-base-py"
  },
  "language_info": {
   "codemirror_mode": {
    "name": "ipython",
    "version": 3
   },
   "file_extension": ".py",
   "mimetype": "text/x-python",
   "name": "python",
   "nbconvert_exporter": "python",
   "pygments_lexer": "ipython3",
   "version": "3.12.7"
  }
 },
 "nbformat": 4,
 "nbformat_minor": 5
}
