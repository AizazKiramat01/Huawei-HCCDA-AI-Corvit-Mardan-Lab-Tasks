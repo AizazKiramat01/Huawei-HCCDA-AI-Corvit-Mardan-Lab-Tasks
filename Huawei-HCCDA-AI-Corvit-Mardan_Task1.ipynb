{
 "cells": [
  {
   "cell_type": "code",
   "execution_count": 1,
   "id": "38eb4ec7-3620-4f0f-9db5-e97a43b6d374",
   "metadata": {},
   "outputs": [],
   "source": [
    "# 1. Create a list of student names\n",
    "student_names = [\"Alice\", \"Bob\", \"Charlie\"]"
   ]
  },
  {
   "cell_type": "code",
   "execution_count": 3,
   "id": "0b961982-4a7a-4a26-8bf3-a84539b10ac0",
   "metadata": {},
   "outputs": [],
   "source": [
    "# 2. Add a new student named \"David\" to the end of the list\n",
    "student_names.append(\"David\")"
   ]
  },
  {
   "cell_type": "code",
   "execution_count": 5,
   "id": "df4335bf-ba9d-4fda-981e-f8bf052e28b1",
   "metadata": {},
   "outputs": [
    {
     "name": "stdout",
     "output_type": "stream",
     "text": [
      "Second student: Bob\n"
     ]
    }
   ],
   "source": [
    "# 3. Get the student at index 1 (second position) and print\n",
    "print(\"Second student:\", student_names[1])"
   ]
  },
  {
   "cell_type": "code",
   "execution_count": 7,
   "id": "81d3c9fe-ba5d-48ce-86c8-534778129e02",
   "metadata": {},
   "outputs": [],
   "source": [
    "# 4. Create a list of student ages\n",
    "student_ages = [18, 19, 20]"
   ]
  },
  {
   "cell_type": "code",
   "execution_count": 9,
   "id": "fa95bf6b-5e4a-454f-abcb-20b514afc1d3",
   "metadata": {},
   "outputs": [
    {
     "name": "stdout",
     "output_type": "stream",
     "text": [
      "student ages: [18, 19, 20]\n"
     ]
    }
   ],
   "source": [
    "print(\"student ages:\", student_ages)"
   ]
  },
  {
   "cell_type": "code",
   "execution_count": 11,
   "id": "bce6a97f-3227-4f6f-a950-bcea39cf46e0",
   "metadata": {},
   "outputs": [
    {
     "name": "stdout",
     "output_type": "stream",
     "text": [
      "student Bob age: 19\n"
     ]
    }
   ],
   "source": [
    "print(\"student Bob age:\", student_ages[1])"
   ]
  },
  {
   "cell_type": "code",
   "execution_count": 13,
   "id": "4dbb0667-b758-4dfe-9d13-8b80e8ea13fd",
   "metadata": {},
   "outputs": [
    {
     "name": "stdout",
     "output_type": "stream",
     "text": [
      "Updated student ages: [18, 21, 20]\n"
     ]
    }
   ],
   "source": [
    "# 5. Change Bob's age to 21 (Bob is at index 1)\n",
    "student_ages[1] = 21\n",
    "print(\"Updated student ages:\", student_ages)"
   ]
  },
  {
   "cell_type": "code",
   "execution_count": 15,
   "id": "0fb26321-b469-4785-85d5-287f72caa6bf",
   "metadata": {},
   "outputs": [
    {
     "name": "stdout",
     "output_type": "stream",
     "text": [
      "student Bob age: 21\n"
     ]
    }
   ],
   "source": [
    "print(\"student Bob age:\", student_ages[1])"
   ]
  },
  {
   "cell_type": "code",
   "execution_count": 17,
   "id": "32e52a3b-ceb3-40bf-b148-98c6babe7bc1",
   "metadata": {},
   "outputs": [
    {
     "name": "stdout",
     "output_type": "stream",
     "text": [
      "Total number of students: 4\n"
     ]
    }
   ],
   "source": [
    "# 6. Find and print the total number of students\n",
    "total_students = len(student_names)\n",
    "print(\"Total number of students:\", total_students)"
   ]
  },
  {
   "cell_type": "code",
   "execution_count": 19,
   "id": "7008577e-9705-49b7-97f7-8e8dd0f9bbbe",
   "metadata": {},
   "outputs": [
    {
     "name": "stdout",
     "output_type": "stream",
     "text": [
      "Is enrolled: True\n"
     ]
    }
   ],
   "source": [
    "# 7. Create a boolean variable is_enrolled and assign True\n",
    "is_enrolled = True\n",
    "print(\"Is enrolled:\", is_enrolled)"
   ]
  },
  {
   "cell_type": "code",
   "execution_count": 21,
   "id": "8a2af7f7-6bdf-4500-a8f0-076a131fc210",
   "metadata": {},
   "outputs": [
    {
     "name": "stdout",
     "output_type": "stream",
     "text": [
      "Bob is enrolled: True\n"
     ]
    }
   ],
   "source": [
    "print(\"Bob is enrolled:\", is_enrolled)"
   ]
  }
 ],
 "metadata": {
  "kernelspec": {
   "display_name": "Python [conda env:base] *",
   "language": "python",
   "name": "conda-base-py"
  },
  "language_info": {
   "codemirror_mode": {
    "name": "ipython",
    "version": 3
   },
   "file_extension": ".py",
   "mimetype": "text/x-python",
   "name": "python",
   "nbconvert_exporter": "python",
   "pygments_lexer": "ipython3",
   "version": "3.12.7"
  }
 },
 "nbformat": 4,
 "nbformat_minor": 5
}
