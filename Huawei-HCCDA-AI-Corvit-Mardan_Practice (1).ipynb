{
 "cells": [
  {
   "cell_type": "markdown",
   "id": "91dcd241",
   "metadata": {},
   "source": [
    "## 1. Basic Data Structures\n",
    "Demonstrating sets, lists, tuples, and dictionaries in Python."
   ]
  },
  {
   "cell_type": "code",
   "execution_count": 1,
   "id": "de68dcb1",
   "metadata": {},
   "outputs": [
    {
     "name": "stdout",
     "output_type": "stream",
     "text": [
      "Set: {False, 1, 2.0}\n"
     ]
    }
   ],
   "source": [
    "my_set = {1, 2.0, False}  # False is equivalent to 0, so only unique values remain\n",
    "print(\"Set:\", my_set)"
   ]
  },
  {
   "cell_type": "code",
   "execution_count": 3,
   "id": "3fc631b2",
   "metadata": {},
   "outputs": [
    {
     "name": "stdout",
     "output_type": "stream",
     "text": [
      "List: [1, 2, 3, 'AI', True]\n"
     ]
    }
   ],
   "source": [
    "my_list = [1, 2, 3, 'AI', True]\n",
    "print(\"List:\", my_list)"
   ]
  },
  {
   "cell_type": "code",
   "execution_count": 5,
   "id": "0aa403d0",
   "metadata": {},
   "outputs": [
    {
     "name": "stdout",
     "output_type": "stream",
     "text": [
      "Tuple: (1, 'Python', 3.14)\n"
     ]
    }
   ],
   "source": [
    "my_tuple = (1, 'Python', 3.14)\n",
    "print(\"Tuple:\", my_tuple)"
   ]
  },
  {
   "cell_type": "code",
   "execution_count": 7,
   "id": "ab56d1d1",
   "metadata": {},
   "outputs": [
    {
     "name": "stdout",
     "output_type": "stream",
     "text": [
      "Dictionary: {'name': 'Aizaz', 'course': 'AI', 'semester': 4}\n"
     ]
    }
   ],
   "source": [
    "my_dict = {'name': 'Aizaz', 'course': 'AI', 'semester': 4}\n",
    "print(\"Dictionary:\", my_dict)"
   ]
  },
  {
   "cell_type": "markdown",
   "id": "9be738a8",
   "metadata": {},
   "source": [
    "## 2. Student Information Dictionary\n",
    "Using nested dictionaries to store detailed info."
   ]
  },
  {
   "cell_type": "code",
   "execution_count": 10,
   "id": "cf1dbddf",
   "metadata": {},
   "outputs": [
    {
     "name": "stdout",
     "output_type": "stream",
     "text": [
      "Province: Khyber Pakhtunkhwa\n"
     ]
    }
   ],
   "source": [
    "student = {\n",
    "    \"name\": \"Aizaz Kiramat\",\n",
    "    \"roll_number\": \"23MDTLE321\",\n",
    "    \"department\": \"Telecommunication Engineering\",\n",
    "    \"semester\": 4,\n",
    "    \"university\": \"UET Mardan\",\n",
    "    \"email\": \"aizazkiramat@gmail.com\",\n",
    "    \"phone\": \"03198593852\",\n",
    "    \"address\": {\n",
    "        \"street\": \"City College Chowk\",\n",
    "        \"city\": \"Mardan\",\n",
    "        \"district\": \"Mardan\",\n",
    "        \"province\": \"Khyber Pakhtunkhwa\",\n",
    "        \"country\": \"Pakistan\"\n",
    "    }\n",
    "}\n",
    "print(\"Province:\", student['address']['province'])"
   ]
  },
  {
   "cell_type": "markdown",
   "id": "e68e2197",
   "metadata": {},
   "source": [
    "## 3. Conditional Statements and Loops\n",
    "Using `if`, `for`, and `while`."
   ]
  },
  {
   "cell_type": "code",
   "execution_count": 12,
   "id": "c7f64c24",
   "metadata": {},
   "outputs": [
    {
     "name": "stdout",
     "output_type": "stream",
     "text": [
      "Positive number\n"
     ]
    }
   ],
   "source": [
    "x = 10\n",
    "if x > 0:\n",
    "    print(\"Positive number\")\n",
    "elif x == 0:\n",
    "    print(\"Zero\")\n",
    "else:\n",
    "    print(\"Negative number\")"
   ]
  },
  {
   "cell_type": "code",
   "execution_count": 14,
   "id": "dd6d5134",
   "metadata": {},
   "outputs": [
    {
     "name": "stdout",
     "output_type": "stream",
     "text": [
      "Loop iteration: 0\n",
      "Loop iteration: 1\n",
      "Loop iteration: 2\n",
      "Loop iteration: 3\n",
      "Loop iteration: 4\n"
     ]
    }
   ],
   "source": [
    "for i in range(5):\n",
    "    print(\"Loop iteration:\", i)"
   ]
  },
  {
   "cell_type": "code",
   "execution_count": 16,
   "id": "3337e4a9",
   "metadata": {},
   "outputs": [
    {
     "name": "stdout",
     "output_type": "stream",
     "text": [
      "While loop: 0\n",
      "While loop: 1\n",
      "While loop: 2\n"
     ]
    }
   ],
   "source": [
    "i = 0\n",
    "while i < 3:\n",
    "    print(\"While loop:\", i)\n",
    "    i += 1"
   ]
  },
  {
   "cell_type": "markdown",
   "id": "3800865c",
   "metadata": {},
   "source": [
    "## 4. Functions\n",
    "Creating reusable blocks of code."
   ]
  },
  {
   "cell_type": "code",
   "execution_count": 32,
   "id": "8c10e593",
   "metadata": {},
   "outputs": [],
   "source": [
    "def function1(): # no arguments\n",
    "    print(\"welcome to function1\")"
   ]
  },
  {
   "cell_type": "code",
   "execution_count": 34,
   "id": "ca73f8b6-96b4-4e2a-9a3f-6748eb713dac",
   "metadata": {},
   "outputs": [
    {
     "name": "stdout",
     "output_type": "stream",
     "text": [
      "welcome to function1\n"
     ]
    }
   ],
   "source": [
    "function1()"
   ]
  },
  {
   "cell_type": "code",
   "execution_count": 36,
   "id": "df31b5e7-26a9-417a-9990-8532ec0a0523",
   "metadata": {},
   "outputs": [],
   "source": [
    "# two types of function parameterized and non parameterized\n",
    "def add(a,b):\n",
    "    print(\"a+b=\",a+b)"
   ]
  },
  {
   "cell_type": "code",
   "execution_count": 38,
   "id": "b5316801-81e4-40c0-a4ea-4dde4c337796",
   "metadata": {},
   "outputs": [
    {
     "name": "stdout",
     "output_type": "stream",
     "text": [
      "a+b= 30\n"
     ]
    }
   ],
   "source": [
    "add(10,20)"
   ]
  },
  {
   "cell_type": "code",
   "execution_count": 40,
   "id": "6b03fd23-3a7d-48d7-89a3-ca25113b623b",
   "metadata": {},
   "outputs": [
    {
     "name": "stdout",
     "output_type": "stream",
     "text": [
      "a+b= 5\n"
     ]
    }
   ],
   "source": [
    "    add(b=2,a=3)"
   ]
  },
  {
   "cell_type": "code",
   "execution_count": null,
   "id": "90f097f1-e3a2-4990-89ce-4ac1e12f093e",
   "metadata": {},
   "outputs": [],
   "source": []
  },
  {
   "cell_type": "markdown",
   "id": "d61e675d",
   "metadata": {},
   "source": [
    "## 5. Error Handling\n",
    "Handling potential runtime errors using `try` and `except`."
   ]
  },
  {
   "cell_type": "code",
   "execution_count": 24,
   "id": "f22ae002",
   "metadata": {},
   "outputs": [
    {
     "name": "stdin",
     "output_type": "stream",
     "text": [
      "Enter a number:  a\n"
     ]
    },
    {
     "name": "stdout",
     "output_type": "stream",
     "text": [
      "That's not a valid number!\n"
     ]
    }
   ],
   "source": [
    "try:\n",
    "    num = int(input(\"Enter a number: \"))\n",
    "    print(\"You entered:\", num)\n",
    "except ValueError:\n",
    "    print(\"That's not a valid number!\")"
   ]
  },
  {
   "cell_type": "markdown",
   "id": "f263eb50",
   "metadata": {},
   "source": [
    "## 6. Practice Problem\n",
    "Check if a number is even or odd."
   ]
  },
  {
   "cell_type": "code",
   "execution_count": 26,
   "id": "72ed9614",
   "metadata": {},
   "outputs": [
    {
     "name": "stdout",
     "output_type": "stream",
     "text": [
      "Odd\n"
     ]
    }
   ],
   "source": [
    "def check_even_odd(num):\n",
    "    if num % 2 == 0:\n",
    "        print(\"Even\")\n",
    "    else:\n",
    "        print(\"Odd\")\n",
    "\n",
    "check_even_odd(7)"
   ]
  },
  {
   "cell_type": "markdown",
   "id": "c0152004-0f7a-447f-90a6-22afcecc969c",
   "metadata": {},
   "source": [
    "## 7. Extras\n",
    "Just experimenting with sets."
   ]
  },
  {
   "cell_type": "code",
   "execution_count": 28,
   "id": "779e81d7",
   "metadata": {},
   "outputs": [
    {
     "name": "stdout",
     "output_type": "stream",
     "text": [
      "{1, 2, 3}\n"
     ]
    }
   ],
   "source": [
    "print(set([1, 2, 2, 3, 1]))"
   ]
  },
  {
   "cell_type": "code",
   "execution_count": 42,
   "id": "812d8bb2-1269-4661-94b6-fbbd2d850f0c",
   "metadata": {},
   "outputs": [],
   "source": [
    "#Use of numpy Library"
   ]
  },
  {
   "cell_type": "code",
   "execution_count": 44,
   "id": "335b1f40-4f33-4267-8d07-74dac68f6f8e",
   "metadata": {},
   "outputs": [],
   "source": [
    "import numpy as np"
   ]
  },
  {
   "cell_type": "code",
   "execution_count": 46,
   "id": "3876eb91-1014-4cfa-bca2-7dcbabda01d7",
   "metadata": {},
   "outputs": [
    {
     "data": {
      "text/plain": [
       "array([ 0,  1,  2,  3,  4,  5,  6,  7,  8,  9, 10, 11])"
      ]
     },
     "execution_count": 46,
     "metadata": {},
     "output_type": "execute_result"
    }
   ],
   "source": [
    "np.arange(12)"
   ]
  },
  {
   "cell_type": "code",
   "execution_count": 48,
   "id": "994f8ee4-6dd9-4a79-bdda-0f1cc00bd6e1",
   "metadata": {},
   "outputs": [
    {
     "name": "stdout",
     "output_type": "stream",
     "text": [
      "[1 2 3]\n"
     ]
    }
   ],
   "source": [
    "arr=np.array([1,2,3]) # one dimentional Array\n",
    "print(arr)"
   ]
  },
  {
   "cell_type": "code",
   "execution_count": 50,
   "id": "76b07ef5-7b0c-4cea-99c3-b0790c173e86",
   "metadata": {},
   "outputs": [
    {
     "data": {
      "text/plain": [
       "1"
      ]
     },
     "execution_count": 50,
     "metadata": {},
     "output_type": "execute_result"
    }
   ],
   "source": [
    "arr.ndim"
   ]
  },
  {
   "cell_type": "code",
   "execution_count": 52,
   "id": "b34caf2f-f572-48f4-bcf0-cc8624c351bc",
   "metadata": {},
   "outputs": [
    {
     "name": "stdout",
     "output_type": "stream",
     "text": [
      "[[1 2 3]\n",
      " [4 5 6]\n",
      " [7 8 9]]\n"
     ]
    }
   ],
   "source": [
    "twodim_array=np.array([[1,2,3],[4,5,6],[7,8,9]]) # Two dimentional Array\n",
    "print(twodim_array)"
   ]
  },
  {
   "cell_type": "code",
   "execution_count": 54,
   "id": "32f30be6-b899-4a61-97cf-6414bf982b0b",
   "metadata": {},
   "outputs": [
    {
     "data": {
      "text/plain": [
       "2"
      ]
     },
     "execution_count": 54,
     "metadata": {},
     "output_type": "execute_result"
    }
   ],
   "source": [
    "twodim_array.ndim"
   ]
  },
  {
   "cell_type": "code",
   "execution_count": 56,
   "id": "d9193bfa-76fb-4a91-8ecc-70e9094c8a5c",
   "metadata": {},
   "outputs": [],
   "source": [
    "# Now use of numpy library is start from here "
   ]
  },
  {
   "cell_type": "code",
   "execution_count": 58,
   "id": "aacc2891-d813-4248-9fca-11fe0a6c442e",
   "metadata": {},
   "outputs": [
    {
     "name": "stdout",
     "output_type": "stream",
     "text": [
      "[[0. 0. 0.]\n",
      " [0. 0. 0.]]\n"
     ]
    }
   ],
   "source": [
    "Array_of_Zeros=np.zeros((2,3)) #Type of array where all the elements are Zero\n",
    "print(Array_of_Zeros)"
   ]
  },
  {
   "cell_type": "code",
   "execution_count": 60,
   "id": "ee9acbe8-b4ef-4670-bdb0-1a10acedd9d5",
   "metadata": {},
   "outputs": [
    {
     "name": "stdout",
     "output_type": "stream",
     "text": [
      "[[1. 1. 1.]\n",
      " [1. 1. 1.]]\n"
     ]
    }
   ],
   "source": [
    "Array_of_ones=np.ones((2,3)) # Type of Array whre all the elements are one's\n",
    "print(Array_of_ones)"
   ]
  },
  {
   "cell_type": "code",
   "execution_count": 62,
   "id": "8ba9ce57-7f63-46ef-bd9f-2a9b2e6fd0dd",
   "metadata": {},
   "outputs": [
    {
     "name": "stdout",
     "output_type": "stream",
     "text": [
      "[[5 5]\n",
      " [5 5]]\n"
     ]
    }
   ],
   "source": [
    "Array_of_full=np.full((2,2),5)  # Type of Array where all the elements are set to 5\n",
    "print(Array_of_full)"
   ]
  },
  {
   "cell_type": "code",
   "execution_count": 64,
   "id": "6369943f-04ba-42fc-a061-9ad9c48028be",
   "metadata": {},
   "outputs": [
    {
     "name": "stdout",
     "output_type": "stream",
     "text": [
      "[[1. 0. 0.]\n",
      " [0. 1. 0.]\n",
      " [0. 0. 1.]]\n"
     ]
    }
   ],
   "source": [
    "Array_of_Identity=np.eye(3)  # Identity Array\n",
    "print(Array_of_Identity)"
   ]
  },
  {
   "cell_type": "code",
   "execution_count": 66,
   "id": "da98b6df-b5e3-4e5e-bdac-a9a89ba4eaad",
   "metadata": {},
   "outputs": [
    {
     "name": "stdout",
     "output_type": "stream",
     "text": [
      "[0 2 4 6 8]\n"
     ]
    }
   ],
   "source": [
    "array = np.arange(0, 10, 2) #Sequence Array\n",
    "print(array)"
   ]
  },
  {
   "cell_type": "code",
   "execution_count": 72,
   "id": "c3d00182-6c9b-40d3-8bbe-3d694503277b",
   "metadata": {},
   "outputs": [
    {
     "name": "stdout",
     "output_type": "stream",
     "text": [
      "Random Integers:\n",
      " [[5 3 9]\n",
      " [4 9 7]\n",
      " [7 5 0]]\n"
     ]
    }
   ],
   "source": [
    "rand_ints = np.random.randint(0, 10, size=(3, 3)) #Random Array\n",
    "print(\"Random Integers:\\n\", rand_ints)"
   ]
  },
  {
   "cell_type": "code",
   "execution_count": null,
   "id": "a613fb79-90cd-4a48-a93a-b046d60d4a14",
   "metadata": {},
   "outputs": [],
   "source": []
  }
 ],
 "metadata": {
  "kernelspec": {
   "display_name": "Python [conda env:base] *",
   "language": "python",
   "name": "conda-base-py"
  },
  "language_info": {
   "codemirror_mode": {
    "name": "ipython",
    "version": 3
   },
   "file_extension": ".py",
   "mimetype": "text/x-python",
   "name": "python",
   "nbconvert_exporter": "python",
   "pygments_lexer": "ipython3",
   "version": "3.12.7"
  }
 },
 "nbformat": 4,
 "nbformat_minor": 5
}
